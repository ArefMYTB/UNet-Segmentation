{
 "cells": [
  {
   "cell_type": "markdown",
   "metadata": {
    "id": "OR3CLEF6Wx1A"
   },
   "source": [
    "# Dataset\n",
    "\n",
    "**Dataset Structure**:\n",
    "\n",
    "- Cloth-Segmentation-Dataset/\n",
    "- ├── train_images/   ← Training input images\n",
    "- ├── train_masks/    ← Ground truth masks for training\n",
    "- ├── val_images/     ← Validation input images\n",
    "- └── val_masks/      ← Ground truth masks for validation\n",
    "\n",
    "Each image in the *_images folders has a corresponding mask in the matching *_masks folder with the same file name."
   ]
  },
  {
   "cell_type": "code",
   "execution_count": null,
   "metadata": {
    "id": "rO2SzYKCOiB1"
   },
   "outputs": [],
   "source": [
    "import os\n",
    "from PIL import Image\n",
    "from torch.utils.data import Dataset\n",
    "import numpy as np"
   ]
  },
  {
   "cell_type": "code",
   "execution_count": null,
   "metadata": {
    "id": "MDFhpQPuOYpC"
   },
   "outputs": [],
   "source": [
    "class ClothDataset(Dataset):\n",
    "  def __init__(self, img_dir, mask_dir, transform=None):\n",
    "    self.img_dir = img_dir\n",
    "    self.mask_dir = mask_dir\n",
    "    self.transform = transform\n",
    "\n",
    "    self.images = os.listdir(img_dir)\n",
    "\n",
    "  def __len__(self):\n",
    "    return len(self.images)\n",
    "\n",
    "  def __getitem__(self, idx):\n",
    "    img_path = os.path.join(self.img_dir, self.images[idx])\n",
    "    mask_path = os.path.join(self.mask_dir, self.images[idx])\n",
    "    image = np.array(Image.open(img_path).convert(\"RGB\"))\n",
    "    mask = np.array(Image.open(mask_path).convert(\"L\"), dtype=np.float32)\n",
    "    mask[mask == 255.0] = 1.0\n",
    "\n",
    "    if self.transform is not None:\n",
    "      augmentations = self.transform(image=image, mask=mask)\n",
    "      image = augmentations[\"image\"]\n",
    "      mask = augmentations[\"mask\"]\n",
    "\n",
    "    return image, mask"
   ]
  },
  {
   "cell_type": "markdown",
   "metadata": {
    "id": "v6wnYzPbDSJq"
   },
   "source": [
    "# Model\n",
    "\n",
    "**UNET Architecture:**\n",
    "\n",
    "U-Net is a symmetric encoder-decoder network:\n",
    "\n",
    "- Down path (encoder): captures context via convolution + pooling.\n",
    "\n",
    "- Up path (decoder): reconstructs image spatially using transposed convolutions and skip connections."
   ]
  },
  {
   "cell_type": "code",
   "execution_count": null,
   "metadata": {
    "id": "ap-5B--cYjRr"
   },
   "outputs": [],
   "source": [
    "import torch\n",
    "import torch.nn as nn\n",
    "import torchvision.transforms.functional as TF"
   ]
  },
  {
   "cell_type": "markdown",
   "metadata": {
    "id": "A6Ew51DWFgcV"
   },
   "source": [
    "**nn.Conv2d(..., bias=False)**\n",
    "\n",
    "bias=False: this means no bias term is added in the convolution.\n",
    "\n",
    "Here's why:\n",
    "\n",
    "- The bias in the convolution becomes redundant because BatchNorm has its own learnable affine parameters (gamma and beta) that effectively shift and scale the output.\n",
    "\n",
    "- Removing the bias saves memory and computation (a small optimization).\n",
    "\n",
    "- In practice, it makes no difference in performance but is more efficient.\n",
    "\n",
    "---\n",
    "\n",
    "**nn.BatchNorm2d()**\n",
    "\n",
    "Batch Normalization normalizes each feature (channel) across the batch to have:\n",
    "\n",
    "- Mean = 0\n",
    "\n",
    "- Standard deviation = 1\n",
    "\n",
    "This helps stabilize training, but too much normalization can limit the model's expressiveness. So we add back learnable parameters:\n",
    "\n",
    "- γ (gamma): a scale factor\n",
    "\n",
    "- β (beta): a shift (bias) factor\n",
    "\n",
    "**Mathematically:**\n",
    "\n",
    "Let’s say the output from a conv layer is x.\n",
    "\n",
    "BatchNorm does:\n",
    "\n",
    "\n",
    "$$\n",
    "x_{\\text{normalized}} = \\frac{x - \\mu}{\\sqrt{\\sigma^2 + \\epsilon}}\n",
    "$$\n",
    "\n",
    "$$\n",
    "\\text{output} = \\gamma \\cdot x_{\\text{normalized}} + \\beta\n",
    "$$\n",
    "\n",
    "\n",
    "- mean and std are computed per feature map (channel) across the batch.\n",
    "\n",
    "- γ and β are learnable (optimized via backpropagation).\n",
    "\n",
    "Why?\n",
    "\n",
    "- Sometimes you don’t want purely normalized values.\n",
    "\n",
    "- γ and β let the model recover the original distribution if that's what helps the task.\n",
    "\n",
    "- This gives the network flexibility to decide how much normalization is useful for each feature.\n",
    "\n",
    "**Visual Analogy:**\n",
    "\n",
    "Imagine trying to hit a moving target — that’s training without BatchNorm. Every time you aim (adjust weights), the target (data distribution) moves.\n",
    "\n",
    "BatchNorm holds the target steady — so your aim improves faster and more accurately.\n"
   ]
  },
  {
   "cell_type": "code",
   "execution_count": null,
   "metadata": {
    "id": "-nrVaoP6D4OC"
   },
   "outputs": [],
   "source": [
    "class DoubleConv(nn.Module):\n",
    "  def __init__(self, in_channels, out_channels):\n",
    "    super(DoubleConv, self).__init__()\n",
    "\n",
    "    self.conv = nn.Sequential(\n",
    "        nn.Conv2d(in_channels, out_channels, 3, 1, 1, bias=False),\n",
    "        nn.BatchNorm2d(out_channels),\n",
    "        nn.ReLU(inplace=True),\n",
    "\n",
    "        nn.Conv2d(out_channels, out_channels, 3, 1, 1, bias=False),\n",
    "        nn.BatchNorm2d(out_channels),\n",
    "        nn.ReLU(inplace=True),\n",
    "    )\n",
    "\n",
    "  def forward(self, x):\n",
    "    return self.conv(x)"
   ]
  },
  {
   "cell_type": "markdown",
   "metadata": {
    "id": "PHpeIu_cPEVU"
   },
   "source": [
    "UNet Architecture:\n",
    "\n",
    "- in_channels: number of input channels (e.g. RGB = 3).\n",
    "\n",
    "- out_channels: number of output channels (e.g. segmentation mask = 1).\n",
    "\n",
    "- features: controls the width (filters) at each layer. We downsample then upsample through these.\n",
    "\n",
    "- Pooling Used after each encoder block.\n",
    "\n",
    "- After upsampling, concatenate with encoder output (skip connection), then pass through DoubleConv(feature*2, feature).\n",
    "\n",
    "- Bottleneck: This is the deepest layer between down and up paths.\n",
    "\n",
    "- Final Output Layer: After decoding is complete, this reduces the number of channels to out_channels (e.g. 1 for binary mask).\n",
    "\n",
    "- In downsampling, we use Pooling which floors the size. So, in upsampling, we better check the sizes before concatinating to prevent errors.\n",
    "\n"
   ]
  },
  {
   "cell_type": "code",
   "execution_count": null,
   "metadata": {
    "id": "9H-vaU9HMfVg"
   },
   "outputs": [],
   "source": [
    "class UNET(nn.Module):\n",
    "  def __init__(self, in_channels=3, out_channels=1, features=[64, 128, 256, 512]):\n",
    "    super(UNET, self).__init__()\n",
    "\n",
    "    # To store the encoder and decoder blocks\n",
    "    self.ups = nn.ModuleList()\n",
    "    self.downs = nn.ModuleList()\n",
    "    self.pool = nn.MaxPool2d(kernel_size=2, stride=2)\n",
    "\n",
    "    # Down Part of UNET\n",
    "    for feature in features:\n",
    "      self.downs.append(DoubleConv(in_channels, feature))\n",
    "      in_channels = feature\n",
    "\n",
    "    # Up Part of UNET\n",
    "    for feature in reversed(features):\n",
    "      self.ups.append(nn.ConvTranspose2d(feature*2, feature, kernel_size=2, stride=2))\n",
    "\n",
    "      self.ups.append(DoubleConv(feature*2, feature))\n",
    "\n",
    "    self.bottleneck = DoubleConv(features[-1], features[-1]*2)\n",
    "    self.final_conv = nn.Conv2d(features[0], out_channels, kernel_size=1)\n",
    "\n",
    "  def forward(self, x):\n",
    "    skip_connections = []\n",
    "\n",
    "    # Downsampling\n",
    "    for down in self.downs:\n",
    "      x = down(x)\n",
    "      skip_connections.append(x)\n",
    "      x = self.pool(x)\n",
    "\n",
    "    # Bottleneck\n",
    "    x = self.bottleneck(x)\n",
    "\n",
    "    skip_connections = skip_connections[::-1]  # Reverse the skip connections\n",
    "\n",
    "    # Upsampling\n",
    "    for idx in range(0, len(self.ups), 2):\n",
    "      # Going Up\n",
    "      x = self.ups[idx](x)\n",
    "\n",
    "      skip_connection = skip_connections[idx//2]\n",
    "\n",
    "      # Compare size of x in downsampling vs upsampling\n",
    "      if x.shape != skip_connection.shape:\n",
    "        x = TF.resize(x, size=skip_connection.shape[2:])\n",
    "\n",
    "      concat_skip = torch.cat((skip_connection, x), dim=1)  # dim=1 to concat through channel dimension - [batch, channel, height, width]\n",
    "\n",
    "      # DoubleConv\n",
    "      x = self.ups[idx+1](concat_skip)\n",
    "\n",
    "    return self.final_conv(x)"
   ]
  },
  {
   "cell_type": "markdown",
   "metadata": {
    "id": "qDHa2SrsV42n"
   },
   "source": [
    "Test Model"
   ]
  },
  {
   "cell_type": "code",
   "execution_count": null,
   "metadata": {
    "colab": {
     "base_uri": "https://localhost:8080/"
    },
    "id": "EFi3-5R7V4Ql",
    "outputId": "05aa0d23-09ef-4a94-eeb7-f4b826788dc9"
   },
   "outputs": [],
   "source": [
    "x = torch.randn((3, 1, 160, 160))\n",
    "model = UNET(1, 1)\n",
    "preds = model(x)\n",
    "print(x.shape)  # torch.Size([3, 1, 160, 160])\n",
    "print(preds.shape)  # torch.Size([3, 1, 160, 160])\n",
    "assert preds.shape == x.shape"
   ]
  },
  {
   "cell_type": "markdown",
   "metadata": {
    "id": "vXrecqu8UsUv"
   },
   "source": [
    "# Training"
   ]
  },
  {
   "cell_type": "code",
   "execution_count": null,
   "metadata": {
    "id": "npB-IgYaUuJG"
   },
   "outputs": [],
   "source": [
    "import torch\n",
    "import torch.nn as nn\n",
    "import torch.optim as optim\n",
    "from torchvision import transforms\n",
    "from torch.utils.data import DataLoader\n",
    "import albumentations as A\n",
    "from albumentations.pytorch import ToTensorV2\n",
    "from tqdm import tqdm"
   ]
  },
  {
   "cell_type": "markdown",
   "metadata": {
    "id": "qFm7Cf58YAPO"
   },
   "source": [
    "**Hyperparameters**"
   ]
  },
  {
   "cell_type": "code",
   "execution_count": null,
   "metadata": {
    "id": "1nupISS1YCf7"
   },
   "outputs": [],
   "source": [
    "# Set device\n",
    "device = torch.device(\"cuda\" if torch.cuda.is_available() else \"cpu\")\n",
    "\n",
    "# Hyperparameters\n",
    "LEARNING_RATE = 1e-4\n",
    "SCHEDULER_STEP_SIZE = 10\n",
    "BATCH_SIZE = 16\n",
    "NUM_EPOCHS = 25\n",
    "NUM_WORKERS = 4\n",
    "PIN_MEMORY = True\n",
    "IMAGE_HEIGHT = 160  # Adjust to your dataset\n",
    "IMAGE_WIDTH = 240\n",
    "LOAD_MODEL = False\n",
    "CHECKPOINT_PATH = \"unet_checkpoint.pth\"\n",
    "TRAIN_IMAGE_DIR = 'Cloth-Segmentation-Dataset/train_images'\n",
    "TRAIN_MASK_DIR = 'Cloth-Segmentation-Dataset/train_masks'\n",
    "VAL_IMAGE_DIR = 'Cloth-Segmentation-Dataset/val_images'\n",
    "VAL_MASK_DIR = 'Cloth-Segmentation-Dataset/val_masks'"
   ]
  },
  {
   "cell_type": "markdown",
   "metadata": {
    "id": "7gcaeUpwpgDA"
   },
   "source": [
    "**Transformation**"
   ]
  },
  {
   "cell_type": "code",
   "execution_count": null,
   "metadata": {
    "id": "2RbqoMvjoE8v"
   },
   "outputs": [],
   "source": [
    "transform = A.Compose([\n",
    "    A.Resize(height=IMAGE_HEIGHT, width=IMAGE_WIDTH),\n",
    "    A.Normalize(mean=(0.0, 0.0, 0.0), std=(1.0, 1.0, 1.0), max_pixel_value=255.0),\n",
    "    ToTensorV2(),\n",
    "])"
   ]
  },
  {
   "cell_type": "markdown",
   "metadata": {
    "id": "tnO2PddppdTR"
   },
   "source": [
    "**Dataset and Dataloader**"
   ]
  },
  {
   "cell_type": "code",
   "execution_count": null,
   "metadata": {
    "id": "_B8_r8--odzV"
   },
   "outputs": [],
   "source": [
    "train_dataset = ClothDataset(\n",
    "    img_dir=TRAIN_IMAGE_DIR,\n",
    "    mask_dir=TRAIN_MASK_DIR,\n",
    "    transform=transform,\n",
    ")\n",
    "\n",
    "train_loader = DataLoader(\n",
    "    train_dataset,\n",
    "    batch_size=BATCH_SIZE,\n",
    "    num_workers=NUM_WORKERS,\n",
    "    pin_memory=PIN_MEMORY,  # Automatically moves data to pinned memory (faster GPU transfer)\n",
    "    shuffle=True,\n",
    ")"
   ]
  },
  {
   "cell_type": "markdown",
   "metadata": {
    "id": "I_Qfr4EyomHu"
   },
   "source": [
    "**Initialize model, loss, and optimizer**\n",
    "\n",
    "BCEWithLogitsLoss is best for binary segmentation, and combines a Sigmoid + BCELoss (Binary Cross Entropy).\n",
    "\n",
    "**Learning rate scheduler** adjusts the learning rate during training, instead of keeping it fixed.\n",
    "\n",
    "**StepLR**:\n",
    "\n",
    "- Reduces the LR every step_size epochs (e.g., every 10 epochs).\n",
    "\n",
    "- Multiplies LR by gamma (e.g., 0.1 → divide by 10).\n",
    "\n",
    "This setup:\n",
    "\n",
    "- Starts at 1e-4\n",
    "\n",
    "- At epoch 10: LR → 5e-5\n",
    "\n",
    "- At epoch 20: LR → 2.5e-5\n",
    "\n",
    "- ... and so on"
   ]
  },
  {
   "cell_type": "code",
   "execution_count": null,
   "metadata": {
    "id": "VKHbf2Fdoqm4"
   },
   "outputs": [],
   "source": [
    "model = UNET(in_channels=3, out_channels=1).to(device)\n",
    "loss_fn = nn.BCEWithLogitsLoss()\n",
    "optimizer = optim.Adam(model.parameters(), lr=LEARNING_RATE)\n",
    "scheduler = torch.optim.lr_scheduler.StepLR(optimizer, step_size=10, gamma=0.5)"
   ]
  },
  {
   "cell_type": "code",
   "execution_count": null,
   "metadata": {
    "id": "yiqR-qxIp_Pv"
   },
   "outputs": [],
   "source": [
    "# Optional: Load checkpoint\n",
    "if LOAD_MODEL:\n",
    "    checkpoint = torch.load(CHECKPOINT_PATH)\n",
    "    model.load_state_dict(checkpoint[\"state_dict\"])\n",
    "    optimizer.load_state_dict(checkpoint[\"optimizer\"])"
   ]
  },
  {
   "cell_type": "markdown",
   "metadata": {
    "id": "JmtrbzzOoqYL"
   },
   "source": [
    "**Save Model**"
   ]
  },
  {
   "cell_type": "code",
   "execution_count": null,
   "metadata": {
    "id": "hGtLsNgzxndT"
   },
   "outputs": [],
   "source": [
    "def save_checkpoint(model, optimizer, filename=CHECKPOINT_PATH):\n",
    "    print(\"=> Saving checkpoint\")\n",
    "    torch.save({\n",
    "        \"state_dict\": model.state_dict(),\n",
    "        \"optimizer\": optimizer.state_dict(),\n",
    "    }, filename)"
   ]
  },
  {
   "cell_type": "markdown",
   "metadata": {
    "id": "BMrr-RJKxn8D"
   },
   "source": [
    "**Training function**"
   ]
  },
  {
   "cell_type": "code",
   "execution_count": null,
   "metadata": {
    "id": "8wggNojenSdN"
   },
   "outputs": [],
   "source": [
    "for epoch in range(NUM_EPOCHS):\n",
    "    print(f\"Epoch {epoch+1}/{NUM_EPOCHS}\")\n",
    "    model.train()\n",
    "    running_loss = 0.0\n",
    "\n",
    "    for data, targets in tqdm(train_loader, desc='Training loop'):\n",
    "        data = data.to(device)\n",
    "        targets = targets.float().unsqueeze(1).to(device)  # Add channel dim -> unsqueeze(1) changes shape from [B, H, W] to [B, 1, H, W].\n",
    "\n",
    "        # Forward\n",
    "        predictions = model(data)\n",
    "        loss = loss_fn(predictions, targets)\n",
    "\n",
    "        # Backward\n",
    "        optimizer.zero_grad()\n",
    "        loss.backward()\n",
    "        optimizer.step()\n",
    "\n",
    "        running_loss += loss.item()\n",
    "\n",
    "    scheduler.step()\n",
    "\n",
    "    print(f'Average Loss: {running_loss / len(train_loader):.4f}')\n",
    "\n",
    "\n",
    "    for param_group in optimizer.param_groups:\n",
    "    print(f\"Current Learning Rate: {param_group['lr']}\")\n",
    "\n",
    "    if epoch % 5 == 0:\n",
    "      save_checkpoint(model, optimizer)\n"
   ]
  },
  {
   "cell_type": "markdown",
   "metadata": {
    "id": "gy7A_coeyUkj"
   },
   "source": [
    "# Evaluating"
   ]
  },
  {
   "cell_type": "markdown",
   "metadata": {
    "id": "eKiXl7rD_VcO"
   },
   "source": [
    "**Save Predictions**"
   ]
  },
  {
   "cell_type": "code",
   "execution_count": null,
   "metadata": {
    "id": "Cvtpq3GC_Rim"
   },
   "outputs": [],
   "source": [
    "from PIL import Image\n",
    "import os\n",
    "\n",
    "def save_predictions_as_images(preds, targets, batch_idx, output_dir=\"saved_preds\"):\n",
    "    os.makedirs(output_dir, exist_ok=True)\n",
    "\n",
    "    for i in range(preds.shape[0]):  # Loop through batch\n",
    "        pred_mask = preds[i].squeeze().cpu().numpy() * 255.0  # [1, H, W] -> [H, W]\n",
    "        true_mask = targets[i].squeeze().cpu().numpy() * 255.0\n",
    "\n",
    "        pred_img = Image.fromarray(pred_mask.astype(\"uint8\"))\n",
    "        target_img = Image.fromarray(true_mask.astype(\"uint8\"))\n",
    "\n",
    "        pred_img.save(os.path.join(output_dir, f\"pred_{batch_idx}_{i}.png\"))\n",
    "        target_img.save(os.path.join(output_dir, f\"gt_{batch_idx}_{i}.png\"))"
   ]
  },
  {
   "cell_type": "markdown",
   "metadata": {
    "id": "L2NaKEVO8lgD"
   },
   "source": [
    "**Define a Dice Score Function**\n",
    "\n",
    "Dice score measures how well the predicted mask overlaps with the ground truth mask. Values range from 0 (no overlap) to 1 (perfect match)."
   ]
  },
  {
   "cell_type": "code",
   "execution_count": null,
   "metadata": {
    "id": "t_vpxRQE8rbs"
   },
   "outputs": [],
   "source": [
    "def dice_score(preds, targets, eps=1e-8):\n",
    "    intersection = (preds * targets).sum()\n",
    "    union = preds.sum() + targets.sum()\n",
    "\n",
    "    dice = (2. * intersection) / (union + 1e-8)  # Avoid division by zero\n",
    "    return dice.item()"
   ]
  },
  {
   "cell_type": "markdown",
   "metadata": {
    "id": "83EYWN8y8uU0"
   },
   "source": [
    "**Validation Function**"
   ]
  },
  {
   "cell_type": "code",
   "execution_count": null,
   "metadata": {
    "id": "JjZ6x7WjyXSj"
   },
   "outputs": [],
   "source": [
    "model.eval()\n",
    "\n",
    "num_correct = num_pixels = 0\n",
    "total_dice = 0.0\n",
    "\n",
    "with torch.no_grad():\n",
    "  for batch_idx, (data, targets) in enumerate(tqdm(val_loader, desc='Validation loop')):\n",
    "\n",
    "    data = data.to(device)\n",
    "    targets = targets.float().unsqueeze(1).to(device)\n",
    "\n",
    "    preds = torch.sigmoid(model(data))     # Convert logits to probabilities\n",
    "    preds = (preds > 0.5).float()           # Binarize predictions\n",
    "\n",
    "    num_correct += (preds == targets).sum()\n",
    "    num_pixels += torch.numel(preds)\n",
    "\n",
    "    total_dice += dice_score(preds, targets)\n",
    "\n",
    "    # Save predictions for first few batches only\n",
    "    if batch_idx < 5:\n",
    "        save_predictions_as_images(preds, targets, batch_idx)\n",
    "\n",
    "accuracy = num_correct / num_pixels * 100\n",
    "avg_dice = total_dice / len(val_loader)\n",
    "\n",
    "print(f'Pixel Accuracy: {accuracy:.2f}% | Avg Dice Score: {avg_dice:.4f}')"
   ]
  }
 ],
 "metadata": {
  "colab": {
   "provenance": []
  },
  "kernelspec": {
   "display_name": "Python 3",
   "name": "python3"
  },
  "language_info": {
   "name": "python"
  }
 },
 "nbformat": 4,
 "nbformat_minor": 0
}
